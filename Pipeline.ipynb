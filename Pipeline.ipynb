{
 "cells": [
  {
   "cell_type": "code",
   "execution_count": 0,
   "metadata": {
    "application/vnd.databricks.v1+cell": {
     "cellMetadata": {
      "byteLimit": 2048000,
      "rowLimit": 10000
     },
     "inputWidgets": {},
     "nuid": "c02390de-2a12-4a90-8068-60b07ba4c9df",
     "showTitle": false,
     "title": ""
    }
   },
   "outputs": [
    {
     "output_type": "display_data",
     "data": {
      "application/vnd.databricks.v1+bamboolib_hint": "{\"pd.DataFrames\": [], \"version\": \"0.0.1\"}",
      "text/plain": []
     },
     "metadata": {},
     "output_type": "display_data"
    },
    {
     "output_type": "stream",
     "name": "stdout",
     "output_type": "stream",
     "text": [
      "Camada bronze\nIniciando a fase ETL: \nLendo os datasets: \n"
     ]
    },
    {
     "output_type": "display_data",
     "data": {
      "text/html": [
       "<div>\n",
       "<style scoped>\n",
       "    .dataframe tbody tr th:only-of-type {\n",
       "        vertical-align: middle;\n",
       "    }\n",
       "\n",
       "    .dataframe tbody tr th {\n",
       "        vertical-align: top;\n",
       "    }\n",
       "\n",
       "    .dataframe thead th {\n",
       "        text-align: right;\n",
       "    }\n",
       "</style>\n",
       "<table border=\"1\" class=\"dataframe\">\n",
       "  <thead>\n",
       "    <tr style=\"text-align: right;\">\n",
       "      <th></th>\n",
       "      <th>region</th>\n",
       "      <th>category</th>\n",
       "      <th>parameter</th>\n",
       "      <th>mode</th>\n",
       "      <th>powertrain</th>\n",
       "      <th>year</th>\n",
       "      <th>unit</th>\n",
       "      <th>value</th>\n",
       "    </tr>\n",
       "  </thead>\n",
       "  <tbody>\n",
       "    <tr>\n",
       "      <th>0</th>\n",
       "      <td>Australia</td>\n",
       "      <td>Historical</td>\n",
       "      <td>EV sales</td>\n",
       "      <td>Cars</td>\n",
       "      <td>BEV</td>\n",
       "      <td>2011</td>\n",
       "      <td>Vehicles</td>\n",
       "      <td>49</td>\n",
       "    </tr>\n",
       "    <tr>\n",
       "      <th>1</th>\n",
       "      <td>Australia</td>\n",
       "      <td>Historical</td>\n",
       "      <td>EV sales</td>\n",
       "      <td>Cars</td>\n",
       "      <td>BEV</td>\n",
       "      <td>2012</td>\n",
       "      <td>Vehicles</td>\n",
       "      <td>170</td>\n",
       "    </tr>\n",
       "    <tr>\n",
       "      <th>2</th>\n",
       "      <td>Australia</td>\n",
       "      <td>Historical</td>\n",
       "      <td>EV sales</td>\n",
       "      <td>Cars</td>\n",
       "      <td>PHEV</td>\n",
       "      <td>2012</td>\n",
       "      <td>Vehicles</td>\n",
       "      <td>80</td>\n",
       "    </tr>\n",
       "    <tr>\n",
       "      <th>3</th>\n",
       "      <td>Australia</td>\n",
       "      <td>Historical</td>\n",
       "      <td>EV sales</td>\n",
       "      <td>Cars</td>\n",
       "      <td>PHEV</td>\n",
       "      <td>2013</td>\n",
       "      <td>Vehicles</td>\n",
       "      <td>100</td>\n",
       "    </tr>\n",
       "    <tr>\n",
       "      <th>4</th>\n",
       "      <td>Australia</td>\n",
       "      <td>Historical</td>\n",
       "      <td>EV sales</td>\n",
       "      <td>Cars</td>\n",
       "      <td>BEV</td>\n",
       "      <td>2013</td>\n",
       "      <td>Vehicles</td>\n",
       "      <td>190</td>\n",
       "    </tr>\n",
       "  </tbody>\n",
       "</table>\n",
       "</div>"
      ]
     },
     "metadata": {
      "application/vnd.databricks.v1+output": {
       "addedWidgets": {},
       "arguments": {},
       "data": "<div>\n<style scoped>\n    .dataframe tbody tr th:only-of-type {\n        vertical-align: middle;\n    }\n\n    .dataframe tbody tr th {\n        vertical-align: top;\n    }\n\n    .dataframe thead th {\n        text-align: right;\n    }\n</style>\n<table border=\"1\" class=\"dataframe\">\n  <thead>\n    <tr style=\"text-align: right;\">\n      <th></th>\n      <th>region</th>\n      <th>category</th>\n      <th>parameter</th>\n      <th>mode</th>\n      <th>powertrain</th>\n      <th>year</th>\n      <th>unit</th>\n      <th>value</th>\n    </tr>\n  </thead>\n  <tbody>\n    <tr>\n      <th>0</th>\n      <td>Australia</td>\n      <td>Historical</td>\n      <td>EV sales</td>\n      <td>Cars</td>\n      <td>BEV</td>\n      <td>2011</td>\n      <td>Vehicles</td>\n      <td>49</td>\n    </tr>\n    <tr>\n      <th>1</th>\n      <td>Australia</td>\n      <td>Historical</td>\n      <td>EV sales</td>\n      <td>Cars</td>\n      <td>BEV</td>\n      <td>2012</td>\n      <td>Vehicles</td>\n      <td>170</td>\n    </tr>\n    <tr>\n      <th>2</th>\n      <td>Australia</td>\n      <td>Historical</td>\n      <td>EV sales</td>\n      <td>Cars</td>\n      <td>PHEV</td>\n      <td>2012</td>\n      <td>Vehicles</td>\n      <td>80</td>\n    </tr>\n    <tr>\n      <th>3</th>\n      <td>Australia</td>\n      <td>Historical</td>\n      <td>EV sales</td>\n      <td>Cars</td>\n      <td>PHEV</td>\n      <td>2013</td>\n      <td>Vehicles</td>\n      <td>100</td>\n    </tr>\n    <tr>\n      <th>4</th>\n      <td>Australia</td>\n      <td>Historical</td>\n      <td>EV sales</td>\n      <td>Cars</td>\n      <td>BEV</td>\n      <td>2013</td>\n      <td>Vehicles</td>\n      <td>190</td>\n    </tr>\n  </tbody>\n</table>\n</div>",
       "datasetInfos": [],
       "metadata": {},
       "removedWidgets": [],
       "textData": null,
       "type": "htmlSandbox"
      }
     },
     "output_type": "display_data"
    }
   ],
   "source": [
    "import pandas as pd\n",
    "import io\n",
    "import requests\n",
    "#\n",
    "#   Camada Bronze\n",
    "#   \n",
    "#   Carregamento dos datasets\n",
    "#\n",
    "print(\"Camada bronze\")\n",
    "print(\"Iniciando a fase ETL: \")\n",
    "print(\"Lendo os datasets: \")\n",
    "dataset1 = \"https://raw.githubusercontent.com/fasantosgh/MVP_EngDados/main/IEA-EV-dataEV%20salesCarsHistorical.csv\"\n",
    "bronzedf1 = pd.read_csv(dataset1, sep=\";\")\n",
    "bronzedf1.head()\n"
   ]
  },
  {
   "cell_type": "code",
   "execution_count": 0,
   "metadata": {
    "application/vnd.databricks.v1+cell": {
     "cellMetadata": {
      "byteLimit": 2048000,
      "rowLimit": 10000
     },
     "inputWidgets": {},
     "nuid": "d7977e56-0f18-41d8-8874-2b7641602a25",
     "showTitle": false,
     "title": ""
    }
   },
   "outputs": [],
   "source": [
    "dataset2 = \"https://raw.githubusercontent.com/fasantosgh/MVP_EngDados/main/WorldBank_Population_Data.csv\"\n",
    "bronzedf2 = pd.read_csv(dataset2)\n",
    "# Remover as duas primeiras colunas do DataFrame Pandas\n",
    "bronzedf2 = bronzedf2.iloc[:, 2:]\n",
    "# Função para renomear as colunas\n",
    "def rename_columns(col):\n",
    "    if '[' in col and ']' in col:\n",
    "        return col.split(' [')[0]\n",
    "    return col\n",
    "#\n",
    "# Aplicar a função para renomear as colunas para evitar erro na criação do Dataframe\n",
    "bronzedf2.columns = [rename_columns(col) for col in bronzedf2.columns]\n",
    "# Remover espaços em branco no início e no fim e dentro dos nomes das colunas\n",
    "bronzedf2.columns = bronzedf2.columns.str.strip().str.replace(' ', '')\n",
    "\n"
   ]
  },
  {
   "cell_type": "code",
   "execution_count": 0,
   "metadata": {
    "application/vnd.databricks.v1+cell": {
     "cellMetadata": {
      "byteLimit": 2048000,
      "implicitDf": true,
      "rowLimit": 10000
     },
     "inputWidgets": {},
     "nuid": "c9988fb7-d23e-458b-b0ce-ea6dc019faa3",
     "showTitle": false,
     "title": ""
    }
   },
   "outputs": [
    {
     "output_type": "display_data",
     "data": {
      "text/html": [
       "<style scoped>\n",
       "  .table-result-container {\n",
       "    max-height: 300px;\n",
       "    overflow: auto;\n",
       "  }\n",
       "  table, th, td {\n",
       "    border: 1px solid black;\n",
       "    border-collapse: collapse;\n",
       "  }\n",
       "  th, td {\n",
       "    padding: 5px;\n",
       "  }\n",
       "  th {\n",
       "    text-align: left;\n",
       "  }\n",
       "</style><div class='table-result-container'><table class='table-result'><thead style='background-color: white'><tr></tr></thead><tbody></tbody></table></div>"
      ]
     },
     "metadata": {
      "application/vnd.databricks.v1+output": {
       "addedWidgets": {},
       "aggData": [],
       "aggError": "",
       "aggOverflow": false,
       "aggSchema": [],
       "aggSeriesLimitReached": false,
       "aggType": "",
       "arguments": {},
       "columnCustomDisplayInfos": {},
       "data": [],
       "datasetInfos": [],
       "dbfsResultPath": null,
       "isJsonSchema": true,
       "metadata": {},
       "overflow": false,
       "plotOptions": {
        "customPlotOptions": {},
        "displayType": "table",
        "pivotAggregation": null,
        "pivotColumns": null,
        "xColumns": null,
        "yColumns": null
       },
       "removedWidgets": [],
       "schema": [],
       "type": "table"
      }
     },
     "output_type": "display_data"
    }
   ],
   "source": [
    "%sql\n",
    "CREATE DATABASE bronze"
   ]
  },
  {
   "cell_type": "code",
   "execution_count": 0,
   "metadata": {
    "application/vnd.databricks.v1+cell": {
     "cellMetadata": {
      "byteLimit": 2048000,
      "rowLimit": 10000
     },
     "inputWidgets": {},
     "nuid": "6415738b-fe3b-4778-980e-fd29a22af777",
     "showTitle": false,
     "title": ""
    }
   },
   "outputs": [],
   "source": [
    "df1 = spark.createDataFrame(bronzedf1)\n",
    "df2 = spark.createDataFrame(bronzedf2)\n",
    "df1.write.mode(\"overwrite\").saveAsTable(\"bronze.carsales\")\n",
    "df2.write.mode(\"overwrite\").saveAsTable(\"bronze.pop\")"
   ]
  },
  {
   "cell_type": "code",
   "execution_count": 0,
   "metadata": {
    "application/vnd.databricks.v1+cell": {
     "cellMetadata": {
      "byteLimit": 2048000,
      "implicitDf": true,
      "rowLimit": 10000
     },
     "inputWidgets": {},
     "nuid": "c6fd39a4-11af-40ab-8ea6-56cabd97f742",
     "showTitle": false,
     "title": ""
    }
   },
   "outputs": [
    {
     "output_type": "display_data",
     "data": {
      "text/html": [
       "<style scoped>\n",
       "  .table-result-container {\n",
       "    max-height: 300px;\n",
       "    overflow: auto;\n",
       "  }\n",
       "  table, th, td {\n",
       "    border: 1px solid black;\n",
       "    border-collapse: collapse;\n",
       "  }\n",
       "  th, td {\n",
       "    padding: 5px;\n",
       "  }\n",
       "  th {\n",
       "    text-align: left;\n",
       "  }\n",
       "</style><div class='table-result-container'><table class='table-result'><thead style='background-color: white'><tr><th>region</th><th>category</th><th>parameter</th><th>mode</th><th>powertrain</th><th>year</th><th>unit</th><th>value</th></tr></thead><tbody><tr><td>Australia</td><td>Historical</td><td>EV sales</td><td>Cars</td><td>BEV</td><td>2011</td><td>Vehicles</td><td>49</td></tr><tr><td>Australia</td><td>Historical</td><td>EV sales</td><td>Cars</td><td>BEV</td><td>2012</td><td>Vehicles</td><td>170</td></tr><tr><td>Australia</td><td>Historical</td><td>EV sales</td><td>Cars</td><td>PHEV</td><td>2012</td><td>Vehicles</td><td>80</td></tr><tr><td>Australia</td><td>Historical</td><td>EV sales</td><td>Cars</td><td>PHEV</td><td>2013</td><td>Vehicles</td><td>100</td></tr><tr><td>Australia</td><td>Historical</td><td>EV sales</td><td>Cars</td><td>BEV</td><td>2013</td><td>Vehicles</td><td>190</td></tr><tr><td>Australia</td><td>Historical</td><td>EV sales</td><td>Cars</td><td>BEV</td><td>2014</td><td>Vehicles</td><td>370</td></tr><tr><td>Australia</td><td>Historical</td><td>EV sales</td><td>Cars</td><td>PHEV</td><td>2014</td><td>Vehicles</td><td>950</td></tr><tr><td>Australia</td><td>Historical</td><td>EV sales</td><td>Cars</td><td>PHEV</td><td>2015</td><td>Vehicles</td><td>1000</td></tr><tr><td>Australia</td><td>Historical</td><td>EV sales</td><td>Cars</td><td>BEV</td><td>2015</td><td>Vehicles</td><td>760</td></tr><tr><td>Australia</td><td>Historical</td><td>EV sales</td><td>Cars</td><td>BEV</td><td>2016</td><td>Vehicles</td><td>670</td></tr></tbody></table></div>"
      ]
     },
     "metadata": {
      "application/vnd.databricks.v1+output": {
       "addedWidgets": {},
       "aggData": [],
       "aggError": "",
       "aggOverflow": false,
       "aggSchema": [],
       "aggSeriesLimitReached": false,
       "aggType": "",
       "arguments": {},
       "columnCustomDisplayInfos": {},
       "data": [
        [
         "Australia",
         "Historical",
         "EV sales",
         "Cars",
         "BEV",
         2011,
         "Vehicles",
         49
        ],
        [
         "Australia",
         "Historical",
         "EV sales",
         "Cars",
         "BEV",
         2012,
         "Vehicles",
         170
        ],
        [
         "Australia",
         "Historical",
         "EV sales",
         "Cars",
         "PHEV",
         2012,
         "Vehicles",
         80
        ],
        [
         "Australia",
         "Historical",
         "EV sales",
         "Cars",
         "PHEV",
         2013,
         "Vehicles",
         100
        ],
        [
         "Australia",
         "Historical",
         "EV sales",
         "Cars",
         "BEV",
         2013,
         "Vehicles",
         190
        ],
        [
         "Australia",
         "Historical",
         "EV sales",
         "Cars",
         "BEV",
         2014,
         "Vehicles",
         370
        ],
        [
         "Australia",
         "Historical",
         "EV sales",
         "Cars",
         "PHEV",
         2014,
         "Vehicles",
         950
        ],
        [
         "Australia",
         "Historical",
         "EV sales",
         "Cars",
         "PHEV",
         2015,
         "Vehicles",
         1000
        ],
        [
         "Australia",
         "Historical",
         "EV sales",
         "Cars",
         "BEV",
         2015,
         "Vehicles",
         760
        ],
        [
         "Australia",
         "Historical",
         "EV sales",
         "Cars",
         "BEV",
         2016,
         "Vehicles",
         670
        ]
       ],
       "datasetInfos": [],
       "dbfsResultPath": null,
       "isJsonSchema": true,
       "metadata": {},
       "overflow": false,
       "plotOptions": {
        "customPlotOptions": {},
        "displayType": "table",
        "pivotAggregation": null,
        "pivotColumns": null,
        "xColumns": null,
        "yColumns": null
       },
       "removedWidgets": [],
       "schema": [
        {
         "metadata": "{}",
         "name": "region",
         "type": "\"string\""
        },
        {
         "metadata": "{}",
         "name": "category",
         "type": "\"string\""
        },
        {
         "metadata": "{}",
         "name": "parameter",
         "type": "\"string\""
        },
        {
         "metadata": "{}",
         "name": "mode",
         "type": "\"string\""
        },
        {
         "metadata": "{}",
         "name": "powertrain",
         "type": "\"string\""
        },
        {
         "metadata": "{}",
         "name": "year",
         "type": "\"long\""
        },
        {
         "metadata": "{}",
         "name": "unit",
         "type": "\"string\""
        },
        {
         "metadata": "{}",
         "name": "value",
         "type": "\"long\""
        }
       ],
       "type": "table"
      }
     },
     "output_type": "display_data"
    }
   ],
   "source": [
    "%sql\n",
    "SELECT * FROM bronze.carsales LIMIT 10"
   ]
  },
  {
   "cell_type": "code",
   "execution_count": 0,
   "metadata": {
    "application/vnd.databricks.v1+cell": {
     "cellMetadata": {
      "byteLimit": 2048000,
      "implicitDf": true,
      "rowLimit": 10000
     },
     "inputWidgets": {},
     "nuid": "76627a7d-2d21-4f11-be7b-2b65aac74090",
     "showTitle": false,
     "title": ""
    }
   },
   "outputs": [
    {
     "output_type": "display_data",
     "data": {
      "text/html": [
       "<style scoped>\n",
       "  .table-result-container {\n",
       "    max-height: 300px;\n",
       "    overflow: auto;\n",
       "  }\n",
       "  table, th, td {\n",
       "    border: 1px solid black;\n",
       "    border-collapse: collapse;\n",
       "  }\n",
       "  th, td {\n",
       "    padding: 5px;\n",
       "  }\n",
       "  th {\n",
       "    text-align: left;\n",
       "  }\n",
       "</style><div class='table-result-container'><table class='table-result'><thead style='background-color: white'><tr><th>CountryName</th><th>CountryCode</th><th>1990</th><th>2000</th><th>2010</th><th>2011</th><th>2012</th><th>2013</th><th>2014</th><th>2015</th><th>2016</th><th>2017</th><th>2018</th><th>2019</th><th>2020</th><th>2021</th><th>2022</th><th>2023</th></tr></thead><tbody><tr><td>Afghanistan</td><td>AFG</td><td>10694796</td><td>19542982</td><td>28189672</td><td>29249157</td><td>30466479</td><td>31541209</td><td>32716210</td><td>33753499</td><td>34636207</td><td>35643418</td><td>36686784</td><td>37769499</td><td>38972230</td><td>40099462</td><td>41128771</td><td>42239854</td></tr><tr><td>Albania</td><td>ALB</td><td>3286542</td><td>3089027</td><td>2913021</td><td>2905195</td><td>2900401</td><td>2895092</td><td>2889104</td><td>2880703</td><td>2876101</td><td>2873457</td><td>2866376</td><td>2854191</td><td>2837849</td><td>2811666</td><td>2777689</td><td>2745972</td></tr><tr><td>Algeria</td><td>DZA</td><td>25518074</td><td>30774621</td><td>35856344</td><td>36543541</td><td>37260563</td><td>38000626</td><td>38760168</td><td>39543154</td><td>40339329</td><td>41136546</td><td>41927007</td><td>42705368</td><td>43451666</td><td>44177969</td><td>44903225</td><td>45606480</td></tr><tr><td>American Samoa</td><td>ASM</td><td>47818</td><td>58230</td><td>54849</td><td>54310</td><td>53691</td><td>52995</td><td>52217</td><td>51368</td><td>50448</td><td>49463</td><td>48424</td><td>47321</td><td>46189</td><td>45035</td><td>44273</td><td>43914</td></tr><tr><td>Andorra</td><td>AND</td><td>53569</td><td>66097</td><td>71519</td><td>70567</td><td>71013</td><td>71367</td><td>71621</td><td>71746</td><td>72540</td><td>73837</td><td>75013</td><td>76343</td><td>77700</td><td>79034</td><td>79824</td><td>80088</td></tr><tr><td>Angola</td><td>AGO</td><td>11828638</td><td>16394062</td><td>23364185</td><td>24259111</td><td>25188292</td><td>26147002</td><td>27128337</td><td>28127721</td><td>29154746</td><td>30208628</td><td>31273533</td><td>32353588</td><td>33428486</td><td>34503774</td><td>35588987</td><td>36684202</td></tr><tr><td>Antigua and Barbuda</td><td>ATG</td><td>63328</td><td>75055</td><td>85695</td><td>86729</td><td>87674</td><td>88497</td><td>89236</td><td>89941</td><td>90564</td><td>91119</td><td>91626</td><td>92117</td><td>92664</td><td>93219</td><td>93763</td><td>94298</td></tr><tr><td>Argentina</td><td>ARG</td><td>32637657</td><td>37070774</td><td>40788453</td><td>41261490</td><td>41733271</td><td>42202935</td><td>42669500</td><td>43131966</td><td>43590368</td><td>44044811</td><td>44494502</td><td>44938712</td><td>45376763</td><td>45808747</td><td>46234830</td><td>46654581</td></tr><tr><td>Armenia</td><td>ARM</td><td>3556539</td><td>3168523</td><td>2946293</td><td>2928976</td><td>2914421</td><td>2901385</td><td>2889930</td><td>2878595</td><td>2865835</td><td>2851923</td><td>2836557</td><td>2820602</td><td>2805608</td><td>2790974</td><td>2780469</td><td>2777970</td></tr><tr><td>Aruba</td><td>ABW</td><td>65712</td><td>89101</td><td>100341</td><td>101288</td><td>102112</td><td>102880</td><td>103594</td><td>104257</td><td>104874</td><td>105439</td><td>105962</td><td>106442</td><td>106585</td><td>106537</td><td>106445</td><td>106277</td></tr></tbody></table></div>"
      ]
     },
     "metadata": {
      "application/vnd.databricks.v1+output": {
       "addedWidgets": {},
       "aggData": [],
       "aggError": "",
       "aggOverflow": false,
       "aggSchema": [],
       "aggSeriesLimitReached": false,
       "aggType": "",
       "arguments": {},
       "columnCustomDisplayInfos": {},
       "data": [
        [
         "Afghanistan",
         "AFG",
         "10694796",
         "19542982",
         "28189672",
         "29249157",
         "30466479",
         "31541209",
         "32716210",
         "33753499",
         "34636207",
         "35643418",
         "36686784",
         "37769499",
         "38972230",
         "40099462",
         "41128771",
         "42239854"
        ],
        [
         "Albania",
         "ALB",
         "3286542",
         "3089027",
         "2913021",
         "2905195",
         "2900401",
         "2895092",
         "2889104",
         "2880703",
         "2876101",
         "2873457",
         "2866376",
         "2854191",
         "2837849",
         "2811666",
         "2777689",
         "2745972"
        ],
        [
         "Algeria",
         "DZA",
         "25518074",
         "30774621",
         "35856344",
         "36543541",
         "37260563",
         "38000626",
         "38760168",
         "39543154",
         "40339329",
         "41136546",
         "41927007",
         "42705368",
         "43451666",
         "44177969",
         "44903225",
         "45606480"
        ],
        [
         "American Samoa",
         "ASM",
         "47818",
         "58230",
         "54849",
         "54310",
         "53691",
         "52995",
         "52217",
         "51368",
         "50448",
         "49463",
         "48424",
         "47321",
         "46189",
         "45035",
         "44273",
         "43914"
        ],
        [
         "Andorra",
         "AND",
         "53569",
         "66097",
         "71519",
         "70567",
         "71013",
         "71367",
         "71621",
         "71746",
         "72540",
         "73837",
         "75013",
         "76343",
         "77700",
         "79034",
         "79824",
         "80088"
        ],
        [
         "Angola",
         "AGO",
         "11828638",
         "16394062",
         "23364185",
         "24259111",
         "25188292",
         "26147002",
         "27128337",
         "28127721",
         "29154746",
         "30208628",
         "31273533",
         "32353588",
         "33428486",
         "34503774",
         "35588987",
         "36684202"
        ],
        [
         "Antigua and Barbuda",
         "ATG",
         "63328",
         "75055",
         "85695",
         "86729",
         "87674",
         "88497",
         "89236",
         "89941",
         "90564",
         "91119",
         "91626",
         "92117",
         "92664",
         "93219",
         "93763",
         "94298"
        ],
        [
         "Argentina",
         "ARG",
         "32637657",
         "37070774",
         "40788453",
         "41261490",
         "41733271",
         "42202935",
         "42669500",
         "43131966",
         "43590368",
         "44044811",
         "44494502",
         "44938712",
         "45376763",
         "45808747",
         "46234830",
         "46654581"
        ],
        [
         "Armenia",
         "ARM",
         "3556539",
         "3168523",
         "2946293",
         "2928976",
         "2914421",
         "2901385",
         "2889930",
         "2878595",
         "2865835",
         "2851923",
         "2836557",
         "2820602",
         "2805608",
         "2790974",
         "2780469",
         "2777970"
        ],
        [
         "Aruba",
         "ABW",
         "65712",
         "89101",
         "100341",
         "101288",
         "102112",
         "102880",
         "103594",
         "104257",
         "104874",
         "105439",
         "105962",
         "106442",
         "106585",
         "106537",
         "106445",
         "106277"
        ]
       ],
       "datasetInfos": [],
       "dbfsResultPath": null,
       "isJsonSchema": true,
       "metadata": {},
       "overflow": false,
       "plotOptions": {
        "customPlotOptions": {},
        "displayType": "table",
        "pivotAggregation": null,
        "pivotColumns": null,
        "xColumns": null,
        "yColumns": null
       },
       "removedWidgets": [],
       "schema": [
        {
         "metadata": "{}",
         "name": "CountryName",
         "type": "\"string\""
        },
        {
         "metadata": "{}",
         "name": "CountryCode",
         "type": "\"string\""
        },
        {
         "metadata": "{}",
         "name": "1990",
         "type": "\"string\""
        },
        {
         "metadata": "{}",
         "name": "2000",
         "type": "\"string\""
        },
        {
         "metadata": "{}",
         "name": "2010",
         "type": "\"string\""
        },
        {
         "metadata": "{}",
         "name": "2011",
         "type": "\"string\""
        },
        {
         "metadata": "{}",
         "name": "2012",
         "type": "\"string\""
        },
        {
         "metadata": "{}",
         "name": "2013",
         "type": "\"string\""
        },
        {
         "metadata": "{}",
         "name": "2014",
         "type": "\"string\""
        },
        {
         "metadata": "{}",
         "name": "2015",
         "type": "\"string\""
        },
        {
         "metadata": "{}",
         "name": "2016",
         "type": "\"string\""
        },
        {
         "metadata": "{}",
         "name": "2017",
         "type": "\"string\""
        },
        {
         "metadata": "{}",
         "name": "2018",
         "type": "\"string\""
        },
        {
         "metadata": "{}",
         "name": "2019",
         "type": "\"string\""
        },
        {
         "metadata": "{}",
         "name": "2020",
         "type": "\"string\""
        },
        {
         "metadata": "{}",
         "name": "2021",
         "type": "\"string\""
        },
        {
         "metadata": "{}",
         "name": "2022",
         "type": "\"string\""
        },
        {
         "metadata": "{}",
         "name": "2023",
         "type": "\"string\""
        }
       ],
       "type": "table"
      }
     },
     "output_type": "display_data"
    }
   ],
   "source": [
    "%sql\n",
    "SELECT * FROM bronze.pop LIMIT 10"
   ]
  },
  {
   "cell_type": "code",
   "execution_count": 0,
   "metadata": {
    "application/vnd.databricks.v1+cell": {
     "cellMetadata": {
      "byteLimit": 2048000,
      "implicitDf": true,
      "rowLimit": 10000
     },
     "inputWidgets": {},
     "nuid": "f6fb2066-5465-499c-9e67-2442e140873f",
     "showTitle": false,
     "title": ""
    }
   },
   "outputs": [
    {
     "output_type": "display_data",
     "data": {
      "text/html": [
       "<style scoped>\n",
       "  .table-result-container {\n",
       "    max-height: 300px;\n",
       "    overflow: auto;\n",
       "  }\n",
       "  table, th, td {\n",
       "    border: 1px solid black;\n",
       "    border-collapse: collapse;\n",
       "  }\n",
       "  th, td {\n",
       "    padding: 5px;\n",
       "  }\n",
       "  th {\n",
       "    text-align: left;\n",
       "  }\n",
       "</style><div class='table-result-container'><table class='table-result'><thead style='background-color: white'><tr></tr></thead><tbody></tbody></table></div>"
      ]
     },
     "metadata": {
      "application/vnd.databricks.v1+output": {
       "addedWidgets": {},
       "aggData": [],
       "aggError": "",
       "aggOverflow": false,
       "aggSchema": [],
       "aggSeriesLimitReached": false,
       "aggType": "",
       "arguments": {},
       "columnCustomDisplayInfos": {},
       "data": [],
       "datasetInfos": [],
       "dbfsResultPath": null,
       "isJsonSchema": true,
       "metadata": {},
       "overflow": false,
       "plotOptions": {
        "customPlotOptions": {},
        "displayType": "table",
        "pivotAggregation": null,
        "pivotColumns": null,
        "xColumns": null,
        "yColumns": null
       },
       "removedWidgets": [],
       "schema": [],
       "type": "table"
      }
     },
     "output_type": "display_data"
    }
   ],
   "source": [
    "%sql\n",
    "CREATE DATABASE silver"
   ]
  },
  {
   "cell_type": "code",
   "execution_count": 0,
   "metadata": {
    "application/vnd.databricks.v1+cell": {
     "cellMetadata": {
      "byteLimit": 2048000,
      "rowLimit": 10000
     },
     "inputWidgets": {},
     "nuid": "cea2ae88-a54b-4758-b068-e17eea69d6e5",
     "showTitle": false,
     "title": ""
    }
   },
   "outputs": [
    {
     "output_type": "stream",
     "name": "stdout",
     "output_type": "stream",
     "text": [
      "Números de linhas e colunas do df1: \n834\n8\n\nNúmeros de linhas e colunas do df2: \n271\n18\nEstatísticas das colunas\n"
     ]
    },
    {
     "output_type": "display_data",
     "data": {
      "text/html": [
       "<style scoped>\n",
       "  .table-result-container {\n",
       "    max-height: 300px;\n",
       "    overflow: auto;\n",
       "  }\n",
       "  table, th, td {\n",
       "    border: 1px solid black;\n",
       "    border-collapse: collapse;\n",
       "  }\n",
       "  th, td {\n",
       "    padding: 5px;\n",
       "  }\n",
       "  th {\n",
       "    text-align: left;\n",
       "  }\n",
       "</style><div class='table-result-container'><table class='table-result'><thead style='background-color: white'><tr><th>summary</th><th>region</th><th>category</th><th>parameter</th><th>mode</th><th>powertrain</th><th>year</th><th>unit</th><th>value</th></tr></thead><tbody><tr><td>count</td><td>834</td><td>834</td><td>834</td><td>834</td><td>834</td><td>834</td><td>834</td><td>834</td></tr><tr><td>mean</td><td>null</td><td>null</td><td>null</td><td>null</td><td>null</td><td>2016.5791366906474</td><td>null</td><td>81414.32014388489</td></tr><tr><td>stddev</td><td>null</td><td>null</td><td>null</td><td>null</td><td>null</td><td>3.5114761226476605</td><td>null</td><td>407236.2264068316</td></tr><tr><td>min</td><td>Australia</td><td>Historical</td><td>EV sales</td><td>Cars</td><td>BEV</td><td>2010</td><td>Vehicles</td><td>1</td></tr><tr><td>max</td><td>World</td><td>Historical</td><td>EV sales</td><td>Cars</td><td>PHEV</td><td>2022</td><td>Vehicles</td><td>7300000</td></tr></tbody></table></div>"
      ]
     },
     "metadata": {
      "application/vnd.databricks.v1+output": {
       "addedWidgets": {},
       "aggData": [],
       "aggError": "",
       "aggOverflow": false,
       "aggSchema": [],
       "aggSeriesLimitReached": false,
       "aggType": "",
       "arguments": {},
       "columnCustomDisplayInfos": {},
       "data": [
        [
         "count",
         "834",
         "834",
         "834",
         "834",
         "834",
         "834",
         "834",
         "834"
        ],
        [
         "mean",
         null,
         null,
         null,
         null,
         null,
         "2016.5791366906474",
         null,
         "81414.32014388489"
        ],
        [
         "stddev",
         null,
         null,
         null,
         null,
         null,
         "3.5114761226476605",
         null,
         "407236.2264068316"
        ],
        [
         "min",
         "Australia",
         "Historical",
         "EV sales",
         "Cars",
         "BEV",
         "2010",
         "Vehicles",
         "1"
        ],
        [
         "max",
         "World",
         "Historical",
         "EV sales",
         "Cars",
         "PHEV",
         "2022",
         "Vehicles",
         "7300000"
        ]
       ],
       "datasetInfos": [],
       "dbfsResultPath": null,
       "isJsonSchema": true,
       "metadata": {},
       "overflow": false,
       "plotOptions": {
        "customPlotOptions": {},
        "displayType": "table",
        "pivotAggregation": null,
        "pivotColumns": null,
        "xColumns": null,
        "yColumns": null
       },
       "removedWidgets": [],
       "schema": [
        {
         "metadata": "{}",
         "name": "summary",
         "type": "\"string\""
        },
        {
         "metadata": "{}",
         "name": "region",
         "type": "\"string\""
        },
        {
         "metadata": "{}",
         "name": "category",
         "type": "\"string\""
        },
        {
         "metadata": "{}",
         "name": "parameter",
         "type": "\"string\""
        },
        {
         "metadata": "{}",
         "name": "mode",
         "type": "\"string\""
        },
        {
         "metadata": "{}",
         "name": "powertrain",
         "type": "\"string\""
        },
        {
         "metadata": "{}",
         "name": "year",
         "type": "\"string\""
        },
        {
         "metadata": "{}",
         "name": "unit",
         "type": "\"string\""
        },
        {
         "metadata": "{}",
         "name": "value",
         "type": "\"string\""
        }
       ],
       "type": "table"
      }
     },
     "output_type": "display_data"
    },
    {
     "output_type": "display_data",
     "data": {
      "text/html": [
       "<style scoped>\n",
       "  .table-result-container {\n",
       "    max-height: 300px;\n",
       "    overflow: auto;\n",
       "  }\n",
       "  table, th, td {\n",
       "    border: 1px solid black;\n",
       "    border-collapse: collapse;\n",
       "  }\n",
       "  th, td {\n",
       "    padding: 5px;\n",
       "  }\n",
       "  th {\n",
       "    text-align: left;\n",
       "  }\n",
       "</style><div class='table-result-container'><table class='table-result'><thead style='background-color: white'><tr><th>summary</th><th>CountryName</th><th>CountryCode</th><th>1990</th><th>2000</th><th>2010</th><th>2011</th><th>2012</th><th>2013</th><th>2014</th><th>2015</th><th>2016</th><th>2017</th><th>2018</th><th>2019</th><th>2020</th><th>2021</th><th>2022</th><th>2023</th></tr></thead><tbody><tr><td>count</td><td>266</td><td>266</td><td>266</td><td>266</td><td>266</td><td>266</td><td>266</td><td>266</td><td>266</td><td>266</td><td>266</td><td>266</td><td>266</td><td>266</td><td>266</td><td>266</td><td>266</td><td>266</td></tr><tr><td>mean</td><td>null</td><td>null</td><td>2.0809515570943397E8</td><td>2.4396145620754716E8</td><td>2.795145017283019E8</td><td>2.832228026679245E8</td><td>2.870575868188679E8</td><td>2.909284819509434E8</td><td>2.9480066256226414E8</td><td>2.986441869698113E8</td><td>3.0248709113584906E8</td><td>3.0633702181509435E8</td><td>3.101259382528302E8</td><td>3.138347782150943E8</td><td>3.174293017735849E8</td><td>3.2067826090943396E8</td><td>3.2362183554339623E8</td><td>3.269709623773585E8</td></tr><tr><td>stddev</td><td>null</td><td>null</td><td>6.601834501534083E8</td><td>7.718466296637123E8</td><td>8.773524662865778E8</td><td>8.883169433526047E8</td><td>8.996429623812058E8</td><td>9.110526025996054E8</td><td>9.224214258433113E8</td><td>9.336474457861443E8</td><td>9.44808129389622E8</td><td>9.559803089353604E8</td><td>9.668651002263539E8</td><td>9.774203730286256E8</td><td>9.875137159478053E8</td><td>9.965683193014526E8</td><td>1.0044735322642696E9</td><td>1.0134694040494038E9</td></tr><tr><td>min</td><td>Afghanistan</td><td>ABW</td><td>..</td><td>..</td><td>..</td><td>..</td><td>..</td><td>..</td><td>..</td><td>..</td><td>..</td><td>..</td><td>..</td><td>..</td><td>..</td><td>..</td><td>..</td><td>..</td></tr><tr><td>max</td><td>Zimbabwe</td><td>ZWE</td><td>9983218</td><td>9979610</td><td>9842880</td><td>9971727</td><td>9920362</td><td>99700107</td><td>99746766</td><td>9843028</td><td>99784030</td><td>998532743</td><td>9939771</td><td>9958829</td><td>98462</td><td>9949437</td><td>9952787</td><td>98858950</td></tr></tbody></table></div>"
      ]
     },
     "metadata": {
      "application/vnd.databricks.v1+output": {
       "addedWidgets": {},
       "aggData": [],
       "aggError": "",
       "aggOverflow": false,
       "aggSchema": [],
       "aggSeriesLimitReached": false,
       "aggType": "",
       "arguments": {},
       "columnCustomDisplayInfos": {},
       "data": [
        [
         "count",
         "266",
         "266",
         "266",
         "266",
         "266",
         "266",
         "266",
         "266",
         "266",
         "266",
         "266",
         "266",
         "266",
         "266",
         "266",
         "266",
         "266",
         "266"
        ],
        [
         "mean",
         null,
         null,
         "2.0809515570943397E8",
         "2.4396145620754716E8",
         "2.795145017283019E8",
         "2.832228026679245E8",
         "2.870575868188679E8",
         "2.909284819509434E8",
         "2.9480066256226414E8",
         "2.986441869698113E8",
         "3.0248709113584906E8",
         "3.0633702181509435E8",
         "3.101259382528302E8",
         "3.138347782150943E8",
         "3.174293017735849E8",
         "3.2067826090943396E8",
         "3.2362183554339623E8",
         "3.269709623773585E8"
        ],
        [
         "stddev",
         null,
         null,
         "6.601834501534083E8",
         "7.718466296637123E8",
         "8.773524662865778E8",
         "8.883169433526047E8",
         "8.996429623812058E8",
         "9.110526025996054E8",
         "9.224214258433113E8",
         "9.336474457861443E8",
         "9.44808129389622E8",
         "9.559803089353604E8",
         "9.668651002263539E8",
         "9.774203730286256E8",
         "9.875137159478053E8",
         "9.965683193014526E8",
         "1.0044735322642696E9",
         "1.0134694040494038E9"
        ],
        [
         "min",
         "Afghanistan",
         "ABW",
         "..",
         "..",
         "..",
         "..",
         "..",
         "..",
         "..",
         "..",
         "..",
         "..",
         "..",
         "..",
         "..",
         "..",
         "..",
         ".."
        ],
        [
         "max",
         "Zimbabwe",
         "ZWE",
         "9983218",
         "9979610",
         "9842880",
         "9971727",
         "9920362",
         "99700107",
         "99746766",
         "9843028",
         "99784030",
         "998532743",
         "9939771",
         "9958829",
         "98462",
         "9949437",
         "9952787",
         "98858950"
        ]
       ],
       "datasetInfos": [],
       "dbfsResultPath": null,
       "isJsonSchema": true,
       "metadata": {},
       "overflow": false,
       "plotOptions": {
        "customPlotOptions": {},
        "displayType": "table",
        "pivotAggregation": null,
        "pivotColumns": null,
        "xColumns": null,
        "yColumns": null
       },
       "removedWidgets": [],
       "schema": [
        {
         "metadata": "{}",
         "name": "summary",
         "type": "\"string\""
        },
        {
         "metadata": "{}",
         "name": "CountryName",
         "type": "\"string\""
        },
        {
         "metadata": "{}",
         "name": "CountryCode",
         "type": "\"string\""
        },
        {
         "metadata": "{}",
         "name": "1990",
         "type": "\"string\""
        },
        {
         "metadata": "{}",
         "name": "2000",
         "type": "\"string\""
        },
        {
         "metadata": "{}",
         "name": "2010",
         "type": "\"string\""
        },
        {
         "metadata": "{}",
         "name": "2011",
         "type": "\"string\""
        },
        {
         "metadata": "{}",
         "name": "2012",
         "type": "\"string\""
        },
        {
         "metadata": "{}",
         "name": "2013",
         "type": "\"string\""
        },
        {
         "metadata": "{}",
         "name": "2014",
         "type": "\"string\""
        },
        {
         "metadata": "{}",
         "name": "2015",
         "type": "\"string\""
        },
        {
         "metadata": "{}",
         "name": "2016",
         "type": "\"string\""
        },
        {
         "metadata": "{}",
         "name": "2017",
         "type": "\"string\""
        },
        {
         "metadata": "{}",
         "name": "2018",
         "type": "\"string\""
        },
        {
         "metadata": "{}",
         "name": "2019",
         "type": "\"string\""
        },
        {
         "metadata": "{}",
         "name": "2020",
         "type": "\"string\""
        },
        {
         "metadata": "{}",
         "name": "2021",
         "type": "\"string\""
        },
        {
         "metadata": "{}",
         "name": "2022",
         "type": "\"string\""
        },
        {
         "metadata": "{}",
         "name": "2023",
         "type": "\"string\""
        }
       ],
       "type": "table"
      }
     },
     "output_type": "display_data"
    },
    {
     "output_type": "stream",
     "name": "stdout",
     "output_type": "stream",
     "text": [
      "Eliminando linhas duplicadas\n"
     ]
    }
   ],
   "source": [
    "#\n",
    "#    Camada Silver\n",
    "#\n",
    "#\n",
    "from pyspark.sql.functions import sum  \n",
    "from pyspark.sql import SparkSession\n",
    "from pyspark.sql.functions import *\n",
    "from pyspark.sql.types import FloatType\n",
    "from pyspark.sql.window import Window\n",
    "#\n",
    "print(\"Números de linhas e colunas do df1: \")\n",
    "print(df1.count())\n",
    "print(len(df1.columns))\n",
    "print()\n",
    "print(\"Números de linhas e colunas do df2: \")\n",
    "print(df2.count())\n",
    "print(len(df2.columns))\n",
    "print(\"Estatísticas das colunas\")\n",
    "display(df1.describe())\n",
    "display(df2.describe())\n",
    "#\n",
    "print(\"Eliminando linhas duplicadas\")\n",
    "df1 = df1.dropDuplicates()\n",
    "df2 = df2.dropDuplicates()\n",
    "#\n",
    "#"
   ]
  },
  {
   "cell_type": "code",
   "execution_count": 0,
   "metadata": {
    "application/vnd.databricks.v1+cell": {
     "cellMetadata": {
      "byteLimit": 2048000,
      "rowLimit": 10000
     },
     "inputWidgets": {},
     "nuid": "495a758e-705a-41ee-9c02-580f171fca34",
     "showTitle": false,
     "title": ""
    }
   },
   "outputs": [
    {
     "output_type": "stream",
     "name": "stdout",
     "output_type": "stream",
     "text": [
      "+---------+----------+----+-----+----------+\n|region   |powertrain|year|value|population|\n+---------+----------+----+-----+----------+\n|Brazil   |PHEV      |2013|33   |201721767 |\n|Belgium  |BEV       |2021|23000|11586195  |\n|Austria  |PHEV      |2017|1700 |8797566   |\n|Canada   |BEV       |2011|220  |34339221  |\n|Australia|PHEV      |2018|1800 |24963258  |\n|Australia|BEV       |2017|1200 |24592588  |\n|Belgium  |BEV       |2015|1400 |11274196  |\n|Brazil   |PHEV      |2021|11000|214326223 |\n|Canada   |PHEV      |2014|2300 |35434066  |\n|Belgium  |PHEV      |2013|60   |11159407  |\n|Brazil   |BEV       |2022|8500 |215313498 |\n|Australia|PHEV      |2014|950  |23475686  |\n|Canada   |BEV       |2014|2800 |35434066  |\n|Brazil   |BEV       |2015|59   |205188205 |\n|Brazil   |BEV       |2016|130  |206859578 |\n|Australia|PHEV      |2016|700  |24190907  |\n|Belgium  |BEV       |2022|38000|11685814  |\n|Brazil   |PHEV      |2022|10000|215313498 |\n|Belgium  |BEV       |2012|570  |11106932  |\n|Brazil   |PHEV      |2015|28   |205188205 |\n+---------+----------+----+-----+----------+\nonly showing top 20 rows\n\nroot\n |-- region: string (nullable = true)\n |-- powertrain: string (nullable = true)\n |-- year: long (nullable = true)\n |-- value: long (nullable = true)\n |-- population: string (nullable = true)\n\n"
     ]
    }
   ],
   "source": [
    "# Criação de uma SparkSession\n",
    "spark = SparkSession.builder.getOrCreate()\n",
    "# Renomeando a coluna para facilitar o join\n",
    "df2 = df2.withColumnRenamed(\"CountryName\", \"region\")\n",
    "# Convertendo df2 de wide para long format\n",
    "years = [str(year) for year in range(2010, 2023)]  \n",
    "# population_columns = [f\"`{year} [YR{year}]`\" for year in years]\n",
    "population_columns = [f\"`{year}`\" for year in years] \n",
    "#\n",
    "# Criando uma coluna com array de structs (year, population)\n",
    "df2_long = df2.withColumn(\"populations\", array([\n",
    "    struct(expr(f\"{population_columns[i]}\").alias(\"population\"), expr(f\"{years[i]}\").alias(\"year\"))\n",
    "    for i in range(len(years))\n",
    "])).select(\"region\", explode(col(\"populations\")).alias(\"pop\"))\n",
    "#\n",
    "# Separando a struct em colunas individuais\n",
    "df2_long = df2_long.select(\"region\", col(\"pop.year\").alias(\"year\"), col(\"pop.population\").alias(\"population\"))\n",
    "#\n",
    "# Realizando o join entre df1 e df2_long\n",
    "result_df = df1.join(df2_long, on=[\"region\", \"year\"], how=\"inner\")\n",
    "#\n",
    "# Selecionando apenas as colunas necessárias\n",
    "result_df = result_df.select(\"region\", \"powertrain\", \"year\", \"value\", \"population\")\n",
    "#\n",
    "# Mostrando o resultado\n",
    "#\n",
    "result_df.show(n=20, truncate=False)\n",
    "result_df.printSchema()\n",
    "#\n",
    "#\n",
    "result_df.write.mode(\"overwrite\").saveAsTable(\"silver.carsalespop\")\n",
    "#\n",
    "\n"
   ]
  },
  {
   "cell_type": "code",
   "execution_count": 0,
   "metadata": {
    "application/vnd.databricks.v1+cell": {
     "cellMetadata": {
      "byteLimit": 2048000,
      "implicitDf": true,
      "rowLimit": 10000
     },
     "inputWidgets": {},
     "nuid": "d9cbd836-3903-44da-8f23-cb00817fdc65",
     "showTitle": false,
     "title": ""
    }
   },
   "outputs": [
    {
     "output_type": "display_data",
     "data": {
      "text/html": [
       "<style scoped>\n",
       "  .table-result-container {\n",
       "    max-height: 300px;\n",
       "    overflow: auto;\n",
       "  }\n",
       "  table, th, td {\n",
       "    border: 1px solid black;\n",
       "    border-collapse: collapse;\n",
       "  }\n",
       "  th, td {\n",
       "    padding: 5px;\n",
       "  }\n",
       "  th {\n",
       "    text-align: left;\n",
       "  }\n",
       "</style><div class='table-result-container'><table class='table-result'><thead style='background-color: white'><tr><th>region</th><th>powertrain</th><th>year</th><th>value</th><th>population</th></tr></thead><tbody><tr><td>Australia</td><td>BEV</td><td>2011</td><td>49</td><td>22340024</td></tr><tr><td>Australia</td><td>BEV</td><td>2012</td><td>170</td><td>22733465</td></tr><tr><td>Australia</td><td>PHEV</td><td>2012</td><td>80</td><td>22733465</td></tr><tr><td>Australia</td><td>PHEV</td><td>2013</td><td>100</td><td>23128129</td></tr><tr><td>Australia</td><td>BEV</td><td>2013</td><td>190</td><td>23128129</td></tr><tr><td>Australia</td><td>PHEV</td><td>2014</td><td>950</td><td>23475686</td></tr><tr><td>Australia</td><td>BEV</td><td>2014</td><td>370</td><td>23475686</td></tr><tr><td>Australia</td><td>BEV</td><td>2015</td><td>760</td><td>23815995</td></tr><tr><td>Australia</td><td>PHEV</td><td>2015</td><td>1000</td><td>23815995</td></tr><tr><td>Australia</td><td>PHEV</td><td>2016</td><td>700</td><td>24190907</td></tr><tr><td>Australia</td><td>BEV</td><td>2016</td><td>670</td><td>24190907</td></tr><tr><td>Australia</td><td>BEV</td><td>2017</td><td>1200</td><td>24592588</td></tr><tr><td>Australia</td><td>PHEV</td><td>2017</td><td>1100</td><td>24592588</td></tr><tr><td>Australia</td><td>PHEV</td><td>2018</td><td>1800</td><td>24963258</td></tr><tr><td>Australia</td><td>BEV</td><td>2018</td><td>1800</td><td>24963258</td></tr><tr><td>Australia</td><td>BEV</td><td>2019</td><td>6300</td><td>25334826</td></tr><tr><td>Australia</td><td>PHEV</td><td>2019</td><td>2900</td><td>25334826</td></tr><tr><td>Australia</td><td>BEV</td><td>2020</td><td>5200</td><td>25649248</td></tr><tr><td>Australia</td><td>PHEV</td><td>2020</td><td>1700</td><td>25649248</td></tr><tr><td>Australia</td><td>PHEV</td><td>2021</td><td>3400</td><td>25685412</td></tr><tr><td>Australia</td><td>BEV</td><td>2021</td><td>17000</td><td>25685412</td></tr><tr><td>Australia</td><td>BEV</td><td>2022</td><td>33000</td><td>26014399</td></tr><tr><td>Australia</td><td>PHEV</td><td>2022</td><td>5900</td><td>26014399</td></tr><tr><td>Austria</td><td>BEV</td><td>2013</td><td>650</td><td>8479823</td></tr><tr><td>Austria</td><td>BEV</td><td>2014</td><td>1700</td><td>8546356</td></tr><tr><td>Austria</td><td>BEV</td><td>2015</td><td>1700</td><td>8642699</td></tr><tr><td>Austria</td><td>PHEV</td><td>2015</td><td>1100</td><td>8642699</td></tr><tr><td>Austria</td><td>BEV</td><td>2016</td><td>3800</td><td>8736668</td></tr><tr><td>Austria</td><td>PHEV</td><td>2016</td><td>1200</td><td>8736668</td></tr><tr><td>Austria</td><td>PHEV</td><td>2017</td><td>1700</td><td>8797566</td></tr><tr><td>Austria</td><td>BEV</td><td>2017</td><td>5400</td><td>8797566</td></tr><tr><td>Austria</td><td>BEV</td><td>2018</td><td>6800</td><td>8840521</td></tr><tr><td>Austria</td><td>PHEV</td><td>2018</td><td>2300</td><td>8840521</td></tr><tr><td>Austria</td><td>BEV</td><td>2019</td><td>9300</td><td>8879920</td></tr><tr><td>Austria</td><td>PHEV</td><td>2019</td><td>2200</td><td>8879920</td></tr><tr><td>Austria</td><td>PHEV</td><td>2020</td><td>7600</td><td>8916864</td></tr><tr><td>Austria</td><td>BEV</td><td>2020</td><td>16000</td><td>8916864</td></tr><tr><td>Austria</td><td>PHEV</td><td>2021</td><td>15000</td><td>8955797</td></tr><tr><td>Austria</td><td>BEV</td><td>2021</td><td>33000</td><td>8955797</td></tr><tr><td>Austria</td><td>PHEV</td><td>2022</td><td>13000</td><td>9041851</td></tr><tr><td>Austria</td><td>BEV</td><td>2022</td><td>34000</td><td>9041851</td></tr><tr><td>Belgium</td><td>PHEV</td><td>2010</td><td>8</td><td>10895586</td></tr><tr><td>Belgium</td><td>BEV</td><td>2010</td><td>48</td><td>10895586</td></tr><tr><td>Belgium</td><td>BEV</td><td>2011</td><td>280</td><td>11038264</td></tr><tr><td>Belgium</td><td>PHEV</td><td>2011</td><td>16</td><td>11038264</td></tr><tr><td>Belgium</td><td>BEV</td><td>2012</td><td>570</td><td>11106932</td></tr><tr><td>Belgium</td><td>PHEV</td><td>2012</td><td>340</td><td>11106932</td></tr><tr><td>Belgium</td><td>PHEV</td><td>2013</td><td>60</td><td>11159407</td></tr><tr><td>Belgium</td><td>BEV</td><td>2013</td><td>500</td><td>11159407</td></tr><tr><td>Belgium</td><td>PHEV</td><td>2014</td><td>650</td><td>11209057</td></tr><tr><td>Belgium</td><td>BEV</td><td>2014</td><td>1300</td><td>11209057</td></tr><tr><td>Belgium</td><td>BEV</td><td>2015</td><td>1400</td><td>11274196</td></tr><tr><td>Belgium</td><td>PHEV</td><td>2015</td><td>2500</td><td>11274196</td></tr><tr><td>Belgium</td><td>PHEV</td><td>2016</td><td>7100</td><td>11331422</td></tr><tr><td>Belgium</td><td>BEV</td><td>2016</td><td>2100</td><td>11331422</td></tr><tr><td>Belgium</td><td>PHEV</td><td>2017</td><td>12000</td><td>11375158</td></tr><tr><td>Belgium</td><td>BEV</td><td>2017</td><td>2700</td><td>11375158</td></tr><tr><td>Belgium</td><td>BEV</td><td>2018</td><td>3600</td><td>11427054</td></tr><tr><td>Belgium</td><td>PHEV</td><td>2018</td><td>9600</td><td>11427054</td></tr><tr><td>Belgium</td><td>PHEV</td><td>2019</td><td>8900</td><td>11488980</td></tr><tr><td>Belgium</td><td>BEV</td><td>2019</td><td>8800</td><td>11488980</td></tr><tr><td>Belgium</td><td>BEV</td><td>2020</td><td>15000</td><td>11538604</td></tr><tr><td>Belgium</td><td>PHEV</td><td>2020</td><td>32000</td><td>11538604</td></tr><tr><td>Belgium</td><td>BEV</td><td>2021</td><td>23000</td><td>11586195</td></tr><tr><td>Belgium</td><td>PHEV</td><td>2021</td><td>48000</td><td>11586195</td></tr><tr><td>Belgium</td><td>BEV</td><td>2022</td><td>38000</td><td>11685814</td></tr><tr><td>Belgium</td><td>PHEV</td><td>2022</td><td>59000</td><td>11685814</td></tr><tr><td>Brazil</td><td>BEV</td><td>2012</td><td>74</td><td>199977707</td></tr><tr><td>Brazil</td><td>PHEV</td><td>2012</td><td>18</td><td>199977707</td></tr><tr><td>Brazil</td><td>PHEV</td><td>2013</td><td>33</td><td>201721767</td></tr><tr><td>Brazil</td><td>BEV</td><td>2013</td><td>130</td><td>201721767</td></tr><tr><td>Brazil</td><td>BEV</td><td>2014</td><td>61</td><td>203459650</td></tr><tr><td>Brazil</td><td>BEV</td><td>2015</td><td>59</td><td>205188205</td></tr><tr><td>Brazil</td><td>PHEV</td><td>2015</td><td>28</td><td>205188205</td></tr><tr><td>Brazil</td><td>BEV</td><td>2016</td><td>130</td><td>206859578</td></tr><tr><td>Brazil</td><td>PHEV</td><td>2016</td><td>47</td><td>206859578</td></tr><tr><td>Brazil</td><td>BEV</td><td>2017</td><td>25</td><td>208504960</td></tr><tr><td>Brazil</td><td>PHEV</td><td>2017</td><td>290</td><td>208504960</td></tr><tr><td>Brazil</td><td>BEV</td><td>2018</td><td>66</td><td>210166592</td></tr><tr><td>Brazil</td><td>PHEV</td><td>2018</td><td>230</td><td>210166592</td></tr><tr><td>Brazil</td><td>BEV</td><td>2019</td><td>540</td><td>211782878</td></tr><tr><td>Brazil</td><td>PHEV</td><td>2019</td><td>1400</td><td>211782878</td></tr><tr><td>Brazil</td><td>BEV</td><td>2020</td><td>680</td><td>213196304</td></tr><tr><td>Brazil</td><td>PHEV</td><td>2020</td><td>1800</td><td>213196304</td></tr><tr><td>Brazil</td><td>PHEV</td><td>2021</td><td>11000</td><td>214326223</td></tr><tr><td>Brazil</td><td>BEV</td><td>2021</td><td>2900</td><td>214326223</td></tr><tr><td>Brazil</td><td>BEV</td><td>2022</td><td>8500</td><td>215313498</td></tr><tr><td>Brazil</td><td>PHEV</td><td>2022</td><td>10000</td><td>215313498</td></tr><tr><td>Canada</td><td>BEV</td><td>2011</td><td>220</td><td>34339221</td></tr><tr><td>Canada</td><td>PHEV</td><td>2011</td><td>300</td><td>34339221</td></tr><tr><td>Canada</td><td>PHEV</td><td>2012</td><td>1300</td><td>34713395</td></tr><tr><td>Canada</td><td>BEV</td><td>2012</td><td>620</td><td>34713395</td></tr><tr><td>Canada</td><td>BEV</td><td>2013</td><td>1600</td><td>35080992</td></tr><tr><td>Canada</td><td>PHEV</td><td>2013</td><td>1500</td><td>35080992</td></tr><tr><td>Canada</td><td>PHEV</td><td>2014</td><td>2300</td><td>35434066</td></tr><tr><td>Canada</td><td>BEV</td><td>2014</td><td>2800</td><td>35434066</td></tr><tr><td>Canada</td><td>BEV</td><td>2015</td><td>4400</td><td>35704498</td></tr><tr><td>Canada</td><td>PHEV</td><td>2015</td><td>2400</td><td>35704498</td></tr><tr><td>Canada</td><td>BEV</td><td>2016</td><td>5200</td><td>36110803</td></tr><tr><td>Canada</td><td>PHEV</td><td>2016</td><td>6400</td><td>36110803</td></tr></tbody></table></div>"
      ]
     },
     "metadata": {
      "application/vnd.databricks.v1+output": {
       "addedWidgets": {},
       "aggData": [],
       "aggError": "",
       "aggOverflow": false,
       "aggSchema": [],
       "aggSeriesLimitReached": false,
       "aggType": "",
       "arguments": {},
       "columnCustomDisplayInfos": {},
       "data": [
        [
         "Australia",
         "BEV",
         2011,
         49,
         "22340024"
        ],
        [
         "Australia",
         "BEV",
         2012,
         170,
         "22733465"
        ],
        [
         "Australia",
         "PHEV",
         2012,
         80,
         "22733465"
        ],
        [
         "Australia",
         "PHEV",
         2013,
         100,
         "23128129"
        ],
        [
         "Australia",
         "BEV",
         2013,
         190,
         "23128129"
        ],
        [
         "Australia",
         "PHEV",
         2014,
         950,
         "23475686"
        ],
        [
         "Australia",
         "BEV",
         2014,
         370,
         "23475686"
        ],
        [
         "Australia",
         "BEV",
         2015,
         760,
         "23815995"
        ],
        [
         "Australia",
         "PHEV",
         2015,
         1000,
         "23815995"
        ],
        [
         "Australia",
         "PHEV",
         2016,
         700,
         "24190907"
        ],
        [
         "Australia",
         "BEV",
         2016,
         670,
         "24190907"
        ],
        [
         "Australia",
         "BEV",
         2017,
         1200,
         "24592588"
        ],
        [
         "Australia",
         "PHEV",
         2017,
         1100,
         "24592588"
        ],
        [
         "Australia",
         "PHEV",
         2018,
         1800,
         "24963258"
        ],
        [
         "Australia",
         "BEV",
         2018,
         1800,
         "24963258"
        ],
        [
         "Australia",
         "BEV",
         2019,
         6300,
         "25334826"
        ],
        [
         "Australia",
         "PHEV",
         2019,
         2900,
         "25334826"
        ],
        [
         "Australia",
         "BEV",
         2020,
         5200,
         "25649248"
        ],
        [
         "Australia",
         "PHEV",
         2020,
         1700,
         "25649248"
        ],
        [
         "Australia",
         "PHEV",
         2021,
         3400,
         "25685412"
        ],
        [
         "Australia",
         "BEV",
         2021,
         17000,
         "25685412"
        ],
        [
         "Australia",
         "BEV",
         2022,
         33000,
         "26014399"
        ],
        [
         "Australia",
         "PHEV",
         2022,
         5900,
         "26014399"
        ],
        [
         "Austria",
         "BEV",
         2013,
         650,
         "8479823"
        ],
        [
         "Austria",
         "BEV",
         2014,
         1700,
         "8546356"
        ],
        [
         "Austria",
         "BEV",
         2015,
         1700,
         "8642699"
        ],
        [
         "Austria",
         "PHEV",
         2015,
         1100,
         "8642699"
        ],
        [
         "Austria",
         "BEV",
         2016,
         3800,
         "8736668"
        ],
        [
         "Austria",
         "PHEV",
         2016,
         1200,
         "8736668"
        ],
        [
         "Austria",
         "PHEV",
         2017,
         1700,
         "8797566"
        ],
        [
         "Austria",
         "BEV",
         2017,
         5400,
         "8797566"
        ],
        [
         "Austria",
         "BEV",
         2018,
         6800,
         "8840521"
        ],
        [
         "Austria",
         "PHEV",
         2018,
         2300,
         "8840521"
        ],
        [
         "Austria",
         "BEV",
         2019,
         9300,
         "8879920"
        ],
        [
         "Austria",
         "PHEV",
         2019,
         2200,
         "8879920"
        ],
        [
         "Austria",
         "PHEV",
         2020,
         7600,
         "8916864"
        ],
        [
         "Austria",
         "BEV",
         2020,
         16000,
         "8916864"
        ],
        [
         "Austria",
         "PHEV",
         2021,
         15000,
         "8955797"
        ],
        [
         "Austria",
         "BEV",
         2021,
         33000,
         "8955797"
        ],
        [
         "Austria",
         "PHEV",
         2022,
         13000,
         "9041851"
        ],
        [
         "Austria",
         "BEV",
         2022,
         34000,
         "9041851"
        ],
        [
         "Belgium",
         "PHEV",
         2010,
         8,
         "10895586"
        ],
        [
         "Belgium",
         "BEV",
         2010,
         48,
         "10895586"
        ],
        [
         "Belgium",
         "BEV",
         2011,
         280,
         "11038264"
        ],
        [
         "Belgium",
         "PHEV",
         2011,
         16,
         "11038264"
        ],
        [
         "Belgium",
         "BEV",
         2012,
         570,
         "11106932"
        ],
        [
         "Belgium",
         "PHEV",
         2012,
         340,
         "11106932"
        ],
        [
         "Belgium",
         "PHEV",
         2013,
         60,
         "11159407"
        ],
        [
         "Belgium",
         "BEV",
         2013,
         500,
         "11159407"
        ],
        [
         "Belgium",
         "PHEV",
         2014,
         650,
         "11209057"
        ],
        [
         "Belgium",
         "BEV",
         2014,
         1300,
         "11209057"
        ],
        [
         "Belgium",
         "BEV",
         2015,
         1400,
         "11274196"
        ],
        [
         "Belgium",
         "PHEV",
         2015,
         2500,
         "11274196"
        ],
        [
         "Belgium",
         "PHEV",
         2016,
         7100,
         "11331422"
        ],
        [
         "Belgium",
         "BEV",
         2016,
         2100,
         "11331422"
        ],
        [
         "Belgium",
         "PHEV",
         2017,
         12000,
         "11375158"
        ],
        [
         "Belgium",
         "BEV",
         2017,
         2700,
         "11375158"
        ],
        [
         "Belgium",
         "BEV",
         2018,
         3600,
         "11427054"
        ],
        [
         "Belgium",
         "PHEV",
         2018,
         9600,
         "11427054"
        ],
        [
         "Belgium",
         "PHEV",
         2019,
         8900,
         "11488980"
        ],
        [
         "Belgium",
         "BEV",
         2019,
         8800,
         "11488980"
        ],
        [
         "Belgium",
         "BEV",
         2020,
         15000,
         "11538604"
        ],
        [
         "Belgium",
         "PHEV",
         2020,
         32000,
         "11538604"
        ],
        [
         "Belgium",
         "BEV",
         2021,
         23000,
         "11586195"
        ],
        [
         "Belgium",
         "PHEV",
         2021,
         48000,
         "11586195"
        ],
        [
         "Belgium",
         "BEV",
         2022,
         38000,
         "11685814"
        ],
        [
         "Belgium",
         "PHEV",
         2022,
         59000,
         "11685814"
        ],
        [
         "Brazil",
         "BEV",
         2012,
         74,
         "199977707"
        ],
        [
         "Brazil",
         "PHEV",
         2012,
         18,
         "199977707"
        ],
        [
         "Brazil",
         "PHEV",
         2013,
         33,
         "201721767"
        ],
        [
         "Brazil",
         "BEV",
         2013,
         130,
         "201721767"
        ],
        [
         "Brazil",
         "BEV",
         2014,
         61,
         "203459650"
        ],
        [
         "Brazil",
         "BEV",
         2015,
         59,
         "205188205"
        ],
        [
         "Brazil",
         "PHEV",
         2015,
         28,
         "205188205"
        ],
        [
         "Brazil",
         "BEV",
         2016,
         130,
         "206859578"
        ],
        [
         "Brazil",
         "PHEV",
         2016,
         47,
         "206859578"
        ],
        [
         "Brazil",
         "BEV",
         2017,
         25,
         "208504960"
        ],
        [
         "Brazil",
         "PHEV",
         2017,
         290,
         "208504960"
        ],
        [
         "Brazil",
         "BEV",
         2018,
         66,
         "210166592"
        ],
        [
         "Brazil",
         "PHEV",
         2018,
         230,
         "210166592"
        ],
        [
         "Brazil",
         "BEV",
         2019,
         540,
         "211782878"
        ],
        [
         "Brazil",
         "PHEV",
         2019,
         1400,
         "211782878"
        ],
        [
         "Brazil",
         "BEV",
         2020,
         680,
         "213196304"
        ],
        [
         "Brazil",
         "PHEV",
         2020,
         1800,
         "213196304"
        ],
        [
         "Brazil",
         "PHEV",
         2021,
         11000,
         "214326223"
        ],
        [
         "Brazil",
         "BEV",
         2021,
         2900,
         "214326223"
        ],
        [
         "Brazil",
         "BEV",
         2022,
         8500,
         "215313498"
        ],
        [
         "Brazil",
         "PHEV",
         2022,
         10000,
         "215313498"
        ],
        [
         "Canada",
         "BEV",
         2011,
         220,
         "34339221"
        ],
        [
         "Canada",
         "PHEV",
         2011,
         300,
         "34339221"
        ],
        [
         "Canada",
         "PHEV",
         2012,
         1300,
         "34713395"
        ],
        [
         "Canada",
         "BEV",
         2012,
         620,
         "34713395"
        ],
        [
         "Canada",
         "BEV",
         2013,
         1600,
         "35080992"
        ],
        [
         "Canada",
         "PHEV",
         2013,
         1500,
         "35080992"
        ],
        [
         "Canada",
         "PHEV",
         2014,
         2300,
         "35434066"
        ],
        [
         "Canada",
         "BEV",
         2014,
         2800,
         "35434066"
        ],
        [
         "Canada",
         "BEV",
         2015,
         4400,
         "35704498"
        ],
        [
         "Canada",
         "PHEV",
         2015,
         2400,
         "35704498"
        ],
        [
         "Canada",
         "BEV",
         2016,
         5200,
         "36110803"
        ],
        [
         "Canada",
         "PHEV",
         2016,
         6400,
         "36110803"
        ]
       ],
       "datasetInfos": [],
       "dbfsResultPath": null,
       "isJsonSchema": true,
       "metadata": {},
       "overflow": false,
       "plotOptions": {
        "customPlotOptions": {},
        "displayType": "table",
        "pivotAggregation": null,
        "pivotColumns": null,
        "xColumns": null,
        "yColumns": null
       },
       "removedWidgets": [],
       "schema": [
        {
         "metadata": "{}",
         "name": "region",
         "type": "\"string\""
        },
        {
         "metadata": "{}",
         "name": "powertrain",
         "type": "\"string\""
        },
        {
         "metadata": "{}",
         "name": "year",
         "type": "\"long\""
        },
        {
         "metadata": "{}",
         "name": "value",
         "type": "\"long\""
        },
        {
         "metadata": "{}",
         "name": "population",
         "type": "\"string\""
        }
       ],
       "type": "table"
      }
     },
     "output_type": "display_data"
    }
   ],
   "source": [
    "%sql\n",
    "SELECT * FROM silver.carsalespop\n",
    "ORDER BY region, year\n",
    "LIMIT 100"
   ]
  },
  {
   "cell_type": "code",
   "execution_count": 0,
   "metadata": {
    "application/vnd.databricks.v1+cell": {
     "cellMetadata": {
      "byteLimit": 2048000,
      "rowLimit": 10000
     },
     "inputWidgets": {},
     "nuid": "176a5fe5-ec37-4f56-964b-017683ca5e5b",
     "showTitle": false,
     "title": ""
    }
   },
   "outputs": [
    {
     "output_type": "stream",
     "name": "stdout",
     "output_type": "stream",
     "text": [
      "+------+----------+----+-------+----------+\n|region|powertrain|year|value  |population|\n+------+----------+----+-------+----------+\n|World |BEV       |2022|7300000|7951595433|\n|World |PHEV      |2022|2900000|7951595433|\n+------+----------+----+-------+----------+\n\n+------+----------+----+-----+----------+\n|region|powertrain|year|value|population|\n+------+----------+----+-----+----------+\n+------+----------+----+-----+----------+\n\n\nQuantidade de carros elétricos vendidos em 2022 no mundo: 10200000\n\nQuantidade de carros elétricos vendidos no período de 2010 a 2022 no mundo: 26984570\n\nDez maiores mercados de carros elétricos vendidos de 2010 a 2022: \n\n+--------------+-----------+\n|region        |total_value|\n+--------------+-----------+\n|China         |13675150   |\n|Germany       |2211480    |\n|United Kingdom|1134238    |\n|France        |1054016    |\n|Norway        |749420     |\n|Sweden        |511344     |\n|Netherlands   |505987     |\n|Japan         |468815     |\n|Canada        |392740     |\n|Italy         |352030     |\n+--------------+-----------+\n\n\nPosição do Brasil em números absolutos: 23\n\nPosição do Brasil em relação à população: 25\n\nDez maiores mercados de VEs em relação a sua população de 2022:\n+-----------+-----------+-----------+-----------------------+\n|region     |total_value|population |relação_valor_população|\n+-----------+-----------+-----------+-----------------------+\n|Norway     |749420     |5311916.0  |0.14108280326722034    |\n|Iceland    |37518      |323764.0   |0.11588070322827738    |\n|Sweden     |511344     |1.0353442E7|0.04938879263533808    |\n|Denmark    |179044     |5614932.0  |0.03188711813428907    |\n|Netherlands|505987     |1.7131296E7|0.029535827295261257   |\n|Germany    |2211480    |8.3797984E7|0.026390611019950074   |\n|Belgium    |277472     |1.1375158E7|0.024392804038414234   |\n|Switzerland|199451     |8704546.0  |0.022913429373571007   |\n|Austria    |156450     |8642699.0  |0.01810198411399032    |\n|Finland    |97831      |5541017.0  |0.017655784127715183   |\n+-----------+-----------+-----------+-----------------------+\n\n\nVendas de carros elétricos no Brasil em 2022: 18500\n"
     ]
    }
   ],
   "source": [
    "#\n",
    "#   Camada Gold \n",
    "#\n",
    "#   Consulta de vendas de carros elétricos em 2022\n",
    "# \n",
    "#\n",
    "from pyspark.sql import SparkSession\n",
    "from pyspark.sql.functions import sum as spark_sum\n",
    "# Criando uma sessão Spark\n",
    "spark = SparkSession.builder.appName(\"Exemplo\").getOrCreate()\n",
    "filtered_df = result_df.filter(\n",
    "    (col(\"region\") == \"World\") &\n",
    "    (col(\"year\") == 2022)   &\n",
    "    ((col(\"powertrain\") == \"BEV\") | (col(\"powertrain\") == \"PHEV\")) \n",
    ")\n",
    "# Verificando as linhas filtradas\n",
    "filtered_df.show(n=100, truncate=False)\n",
    "# Verificar se há registros nulos na coluna \"value\"\n",
    "filtered_df.filter(col(\"value\").isNull()).show()\n",
    "# Selecionar a coluna \"value\" e calcular a soma dos valores\n",
    "vendas_2022 = filtered_df.agg(spark_sum(\"value\")).collect()[0][0]\n",
    "#\n",
    "# Imprimir o resultado\n",
    "print(\"\")\n",
    "print(f\"Quantidade de carros elétricos vendidos em 2022 no mundo: {vendas_2022}\")\n",
    "#\n",
    "# Filtrar o DataFrame as vendas de 2010 a 2022\n",
    "filtered2_df = result_df.filter(\n",
    "    (col(\"region\") == \"World\") &\n",
    "    ((col(\"year\") >= 2010) | (col(\"year\") <= 2022))  &\n",
    "    ((col(\"powertrain\") == \"BEV\") | (col(\"powertrain\") == \"PHEV\")) \n",
    ")\n",
    "# Selecionar a coluna \"value\" e calcular a soma dos valores\n",
    "vendas_2010_2022 = filtered2_df.agg(spark_sum(\"value\")).collect()[0][0]\n",
    "#\n",
    "print(\"\")\n",
    "print(f\"Quantidade de carros elétricos vendidos no período de 2010 a 2022 no mundo: {vendas_2010_2022}\")\n",
    "#\n",
    "#\n",
    "# Converter a coluna 'population' para float, tratando erros como NULL\n",
    "result_df = result_df.withColumn(\n",
    "    \"population\",\n",
    "    when(col(\"population\").cast(FloatType()).isNotNull(), col(\"population\").cast(FloatType())).otherwise(None)\n",
    ")\n",
    "#\n",
    "# Filtrar o DataFrame para o ano de 2022 e eliminar a região \"World\"\n",
    "#\n",
    "filtered3_df = result_df.filter(\n",
    "    (col(\"region\") != \"World\") &\n",
    "    ((col(\"year\") >= 2010) | (col(\"year\") <= 2022))\n",
    ")\n",
    "#\n",
    "# Agrupar por 'region' e somar a coluna 'value'\n",
    "grouped_df = filtered3_df.groupBy(\"region\").agg(spark_sum(\"value\").alias(\"total_value\"))\n",
    "#\n",
    "# Ordenar os resultados pela soma de 'value' em ordem decrescente\n",
    "sorted_df = grouped_df.orderBy(col(\"total_value\").desc())\n",
    "#\n",
    "# Selecionar as 10 primeiras regiões com os maiores valores\n",
    "top_10_mercados_2022 = sorted_df.limit(10)\n",
    "#\n",
    "#\n",
    "# Exibindo os dez maiores mercados de powertrain BEV e PHEV somados no mundo em 2022\n",
    "print(\"\")\n",
    "print(f\"Dez maiores mercados de carros elétricos vendidos de 2010 a 2022: \")\n",
    "print(\"\")\n",
    "top_10_mercados_2022.show(truncate=False)\n",
    "#\n",
    "# Agrupar por 'region' e somar a coluna 'value'\n",
    "grouped3_df = filtered3_df.groupBy(\"region\").agg(\n",
    "    spark_sum(\"value\").alias(\"total_value\"),\n",
    "    last(\"population\").alias(\"population\")\n",
    ")\n",
    "#\n",
    "# Calcular a relação valor/população\n",
    "grouped3_df = grouped3_df.withColumn(\"relação_valor_população\", col(\"total_value\") / col(\"population\"))\n",
    "#\n",
    "# Ordenar os resultados pela relação valor/população em ordem decrescente\n",
    "sorted3_df = grouped3_df.orderBy(col(\"relação_valor_população\").desc())\n",
    "#\n",
    "# Selecionar as 10 primeiras regiões com as maiores relações valor/população\n",
    "top_10_mercados_populacao = sorted3_df.limit(10)\n",
    "#\n",
    "#\n",
    "# Calcular o ranking absoluto com base no valor total\n",
    "window_spec = Window.orderBy(desc(\"total_value\"))\n",
    "sorted3_df = sorted3_df.withColumn(\"rank_absoluto\", rank().over(window_spec))\n",
    "#\n",
    "#\n",
    "# Calcular o ranking relativo com base na relação valor/população\n",
    "window_spec_rel = Window.orderBy(desc(\"relação_valor_população\"))\n",
    "sorted3_df = sorted3_df.withColumn(\"rank_relativo\", rank().over(window_spec_rel))\n",
    "#\n",
    "# Obter a posição do Brasil em ambos os rankings\n",
    "posicao_absoluta_brasil = sorted3_df.filter(col(\"region\") == \"Brazil\").select(\"rank_absoluto\").collect()[0][0]\n",
    "posicao_relativa_brasil = sorted3_df.filter(col(\"region\") == \"Brazil\").select(\"rank_relativo\").collect()[0][0]\n",
    "#\n",
    "# Imprimir as posições do Brasil\n",
    "print(\"\")\n",
    "print(f\"Posição do Brasil em números absolutos: {posicao_absoluta_brasil}\")\n",
    "print(\"\")\n",
    "print(f\"Posição do Brasil em relação à população: {posicao_relativa_brasil}\")\n",
    "#\n",
    "# Exibindo os dez maiores mercados de powertrain BEV e PHEV somados em relação à população\n",
    "# Ordenando pela relação valor/população e selecionando os dez maiores mercados\n",
    "print(\"\")\n",
    "print(f\"Dez maiores mercados de VEs em relação a sua população de 2022:\")\n",
    "top_10_mercados_populacao.show(truncate=False)\n",
    "#\n",
    "# Filtrando os dados do Brasil em 2022\n",
    "brazil_2022 = result_df.filter(\n",
    "    (col(\"region\") == \"Brazil\") &\n",
    "    (col(\"year\") == 2022)\n",
    ")\n",
    "#\n",
    "vendas_brasil_2022 = brazil_2022.agg(spark_sum(\"value\")).collect()[0][0]\n",
    "#\n",
    "print(\"\")\n",
    "print(f\"Vendas de carros elétricos no Brasil em 2022: {vendas_brasil_2022}\")\n"
   ]
  }
 ],
 "metadata": {
  "application/vnd.databricks.v1+notebook": {
   "dashboards": [],
   "environmentMetadata": null,
   "language": "python",
   "notebookMetadata": {
    "mostRecentlyExecutedCommandWithImplicitDF": {
     "commandId": 2662589157400296,
     "dataframes": [
      "_sqldf"
     ]
    },
    "pythonIndentUnit": 4
   },
   "notebookName": "Pipeline",
   "widgets": {}
  }
 },
 "nbformat": 4,
 "nbformat_minor": 0
}
